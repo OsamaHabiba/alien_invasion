{
 "cells": [
  {
   "cell_type": "code",
   "execution_count": 1,
   "id": "recovered-romance",
   "metadata": {},
   "outputs": [
    {
     "name": "stdout",
     "output_type": "stream",
     "text": [
      "pygame 1.9.6\n",
      "Hello from the pygame community. https://www.pygame.org/contribute.html\n"
     ]
    }
   ],
   "source": [
    "import pygame\n",
    "\n",
    "from pygame.sprite import Sprite\n",
    "\n",
    "\n",
    "class Alien(Sprite):\n",
    "    \"\"\"A class to represent a single alien in a fleet\"\"\"\n",
    "\n",
    "    def __init__(self, ai_settings, screen,):\n",
    "        \"\"\" initializing the alien and setting its starting position \"\"\"\n",
    "        super(Alien, self).__init__()\n",
    "        self.screen = screen\n",
    "        self.ai_settings = ai_settings\n",
    "\n",
    "        #load the alien image and set its rect attribute\n",
    "        self.image = pygame.image.load(\"images/alien.bmp\")\n",
    "        self.rect = self.image.get_rect()\n",
    "\n",
    "        #start each new alien near the top left of the screen\n",
    "        self.rect.x = self.rect.width\n",
    "        self.rect.y = self.rect.height\n",
    "\n",
    "        #store the alien exact position\n",
    "        self.x = float(self.rect.x)\n",
    "\n",
    "    def blitme(self):\n",
    "        \"\"\" draw the alien at its exact location\"\"\"\n",
    "        self.screen.blit(self.image, self.rect)\n",
    "\n",
    "    def check_edges(self):\n",
    "        \"\"\"return true if alien is at edge of screen\"\"\"\n",
    "        screen_rect = self.screen.get_rect()\n",
    "        if self.rect.right >= screen_rect.right:\n",
    "            return True\n",
    "        elif self.rect.left <= 0:\n",
    "            return True\n",
    "\n",
    "    def update(self):\n",
    "        \"\"\"move the alien right\"\"\"\n",
    "        self.x += (self.ai_settings.alien_speed_factor *\n",
    "                    self.ai_settings.fleet_direction)\n",
    "        self.rect.x = self.x"
   ]
  },
  {
   "cell_type": "code",
   "execution_count": 2,
   "id": "hazardous-alarm",
   "metadata": {},
   "outputs": [
    {
     "name": "stdout",
     "output_type": "stream",
     "text": [
      "osama cool\n"
     ]
    }
   ],
   "source": [
    "xx= \"osama\"\n",
    "yy=\" cool\"\n",
    "\n",
    "print(xx+yy)"
   ]
  }
 ],
 "metadata": {
  "kernelspec": {
   "display_name": "Python 3",
   "language": "python",
   "name": "python3"
  },
  "language_info": {
   "codemirror_mode": {
    "name": "ipython",
    "version": 3
   },
   "file_extension": ".py",
   "mimetype": "text/x-python",
   "name": "python",
   "nbconvert_exporter": "python",
   "pygments_lexer": "ipython3",
   "version": "3.6.9"
  }
 },
 "nbformat": 4,
 "nbformat_minor": 5
}
